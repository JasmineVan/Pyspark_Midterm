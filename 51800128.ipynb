{
  "cells": [
    {
      "cell_type": "markdown",
      "metadata": {
        "id": "view-in-github",
        "colab_type": "text"
      },
      "source": [
        "<a href=\"https://colab.research.google.com/github/JasmineVan/Pyspark_Midterm/blob/main/51800128.ipynb\" target=\"_parent\"><img src=\"https://colab.research.google.com/assets/colab-badge.svg\" alt=\"Open In Colab\"/></a>"
      ]
    },
    {
      "cell_type": "markdown",
      "metadata": {
        "id": "xVHA3j3zw788"
      },
      "source": [
        "# Đồ án giữa kỳ\n",
        "# Môn: Xử lý dữ liệu lớn\n",
        "# Học kỳ 1 - Năm học 2022-2023\n",
        "# Giảng viên: Th.S Nguyễn Thành An\n",
        "# Học viên: Trịnh Vân Thương - 51800128"
      ]
    },
    {
      "cell_type": "markdown",
      "metadata": {
        "id": "k5Kl4LZvxO2x"
      },
      "source": [
        "# Cài đặt PySpark"
      ]
    },
    {
      "cell_type": "code",
      "execution_count": 222,
      "metadata": {
        "id": "30qo4fFaBJuk"
      },
      "outputs": [],
      "source": [
        "!apt-get install openjdk-8-jdk-headless -qq > /dev/null\n",
        "!wget -q http://archive.apache.org/dist/spark/spark-3.1.1/spark-3.1.1-bin-hadoop3.2.tgz\n",
        "!tar xf spark-3.1.1-bin-hadoop3.2.tgz\n",
        "!pip install -q findspark"
      ]
    },
    {
      "cell_type": "code",
      "execution_count": 223,
      "metadata": {
        "id": "DHpJBYNgBogr"
      },
      "outputs": [],
      "source": [
        "import os\n",
        "os.environ[\"JAVA_HOME\"] = \"/usr/lib/jvm/java-8-openjdk-amd64\"\n",
        "os.environ[\"SPARK_HOME\"] = \"/content/spark-3.1.1-bin-hadoop3.2\"\n",
        "\n",
        "import findspark\n",
        "findspark.init()"
      ]
    },
    {
      "cell_type": "markdown",
      "metadata": {
        "id": "GcUw9tifyEQY"
      },
      "source": [
        "# Yêu cầu"
      ]
    },
    {
      "cell_type": "markdown",
      "metadata": {
        "id": "j_a5qwBOyGeN"
      },
      "source": [
        "## Spark Context"
      ]
    },
    {
      "cell_type": "code",
      "execution_count": 259,
      "metadata": {
        "id": "0_NIi4gxV2XH"
      },
      "outputs": [],
      "source": [
        "from pyspark import SparkContext\n",
        "from pyspark.sql import SQLContext\n",
        "\n",
        "# sc.stop()\n",
        "sc = SparkContext(\"local\", \"midterm project\")"
      ]
    },
    {
      "cell_type": "code",
      "execution_count": 227,
      "metadata": {
        "id": "YhyElNXGzdTF"
      },
      "outputs": [],
      "source": [
        "sqlc = SQLContext(sc)"
      ]
    },
    {
      "cell_type": "markdown",
      "metadata": {
        "id": "V3fPtIPJxhiu"
      },
      "source": [
        "## Đọc dữ liệu data.csv"
      ]
    },
    {
      "cell_type": "code",
      "execution_count": 228,
      "metadata": {
        "id": "XhsHgMmKB0GG",
        "colab": {
          "base_uri": "https://localhost:8080/",
          "height": 0
        },
        "outputId": "8701fd3b-7904-4307-ec3f-f75f52e6d0ae"
      },
      "outputs": [
        {
          "output_type": "stream",
          "name": "stdout",
          "text": [
            "<class 'pyspark.rdd.RDD'>\n"
          ]
        }
      ],
      "source": [
        "data = sc.textFile('/content/data.csv') \n",
        "print(type(data))"
      ]
    },
    {
      "cell_type": "markdown",
      "metadata": {
        "id": "AkXZj6wAxpaz"
      },
      "source": [
        "## Câu 1: Đếm món hàng"
      ]
    },
    {
      "cell_type": "code",
      "execution_count": 229,
      "metadata": {
        "id": "1T_B_LIvEGvn"
      },
      "outputs": [],
      "source": [
        "'''\n",
        "Câu 1\n",
        "'''\n",
        "# Read data in each line\n",
        "# Mapping each row with key \"1\"\n",
        "# Reduce by key, incresing the value of key when meet duplicated row (the same Member_number, Date)\n",
        "items = data\\\n",
        "        .flatMap(lambda x: x.split('/n')) \\\n",
        "        .map(lambda x: (\n",
        "            (x.split(',')[0], x.split(',')[1]), 1)\n",
        "        )\\\n",
        "        .reduceByKey(lambda x, y: x + y)\n",
        "\n",
        "# Using temporary array listData to store data of 3 columns: Member_number, Date and key after increasing\n",
        "# Save to folder /content/counters\n",
        "items = items.collect()\n",
        "listData = []\n",
        "for item in items:\n",
        "  # print(item)\n",
        "  item = item[0][0]+', '+item[0][1]+', '+str(item[1])\n",
        "  listData.append(item)\n",
        "\n",
        "cau1NewRdd = sc.parallelize(listData)  \n",
        "cau1NewRdd.saveAsTextFile('/content/counters')"
      ]
    },
    {
      "cell_type": "code",
      "execution_count": 230,
      "metadata": {
        "id": "nJPxYFGKzYV_",
        "colab": {
          "base_uri": "https://localhost:8080/",
          "height": 0
        },
        "outputId": "5167e5c2-cab8-4da4-aeeb-d997c4bbdfe3"
      },
      "outputs": [
        {
          "output_type": "stream",
          "name": "stdout",
          "text": [
            "+-------------+-----------+---+\n",
            "|Member_number|       Date|  1|\n",
            "+-------------+-----------+---+\n",
            "|         1249| 01/01/2014|  2|\n",
            "|         1381| 01/01/2014|  2|\n",
            "|         1440| 01/01/2014|  2|\n",
            "|         1659| 01/01/2014|  2|\n",
            "|         1789| 01/01/2014|  2|\n",
            "|         1922| 01/01/2014|  2|\n",
            "|         2226| 01/01/2014|  2|\n",
            "|         2237| 01/01/2014|  2|\n",
            "|         2351| 01/01/2014|  2|\n",
            "|         2542| 01/01/2014|  2|\n",
            "|         2610| 01/01/2014|  3|\n",
            "|         2709| 01/01/2014|  2|\n",
            "|         2727| 01/01/2014|  2|\n",
            "|         2943| 01/01/2014|  2|\n",
            "|         2974| 01/01/2014|  3|\n",
            "|         3681| 01/01/2014|  3|\n",
            "|         3797| 01/01/2014|  2|\n",
            "|         3942| 01/01/2014|  3|\n",
            "|         3956| 01/01/2014|  4|\n",
            "|         4260| 01/01/2014|  2|\n",
            "+-------------+-----------+---+\n",
            "only showing top 20 rows\n",
            "\n"
          ]
        }
      ],
      "source": [
        "import os\n",
        "\n",
        "if os.path.exists('/content/counters/part-00000'):\n",
        "  sqlc.read.csv('/content/counters/part-00000', header=True).show()"
      ]
    },
    {
      "cell_type": "markdown",
      "metadata": {
        "id": "hn3eY65yxsrr"
      },
      "source": [
        "## Câu 2: Giỏ hàng"
      ]
    },
    {
      "cell_type": "code",
      "execution_count": 231,
      "metadata": {
        "id": "jj6RX3EuB5wy"
      },
      "outputs": [],
      "source": [
        "'''\n",
        "Câu 2\n",
        "'''\n",
        "# Read data in each line\n",
        "# Mapping each row with key \"1\"\n",
        "# Reduce by key: concaternate data in column itemDescription\n",
        "baskets = data \\\n",
        "        .flatMap(lambda x: x.split('/n')) \\\n",
        "        .map(lambda x: (\n",
        "            (x.split(',')[0], x.split(',')[1]), x.split(',')[2])\n",
        "        )\\\n",
        "        .reduceByKey(lambda x, y: x +','+ y)\n",
        "\n",
        "# Using temporary array listData to store data of 3 columns: Member_number, Date and items\n",
        "# Save to folder /content/baskets\n",
        "baskets = baskets.collect()\n",
        "listData = []\n",
        "\n",
        "for basket in baskets:\n",
        "  # print(basket)\n",
        "  basket = basket[0][0]+';'+basket[0][1]+';'+basket[1]\n",
        "  listData.append(basket)\n",
        "\n",
        "cau2NewRdd = sc.parallelize(listData)  \n",
        "cau2NewRdd.saveAsTextFile('/content/baskets')"
      ]
    },
    {
      "cell_type": "code",
      "execution_count": 232,
      "metadata": {
        "id": "R8ikA_3VznX7",
        "colab": {
          "base_uri": "https://localhost:8080/",
          "height": 0
        },
        "outputId": "13e9f861-0b86-4fd9-b581-d36f4c2a83b5"
      },
      "outputs": [
        {
          "output_type": "stream",
          "name": "stdout",
          "text": [
            "+-------------+----------+--------------------+\n",
            "|Member_number|      Date|     itemDescription|\n",
            "+-------------+----------+--------------------+\n",
            "|         1249|01/01/2014| citrus fruit,coffee|\n",
            "|         1381|01/01/2014|           curd,soda|\n",
            "|         1440|01/01/2014|other vegetables,...|\n",
            "|         1659|01/01/2014|specialty chocola...|\n",
            "|         1789|01/01/2014|hamburger meat,ca...|\n",
            "|         1922|01/01/2014|tropical fruit,ot...|\n",
            "|         2226|01/01/2014|sausage,bottled w...|\n",
            "|         2237|01/01/2014|bottled water,Ins...|\n",
            "|         2351|01/01/2014|cleaner,shopping ...|\n",
            "|         2542|01/01/2014|sliced cheese,bot...|\n",
            "|         2610|01/01/2014|hamburger meat,bo...|\n",
            "|         2709|01/01/2014|yogurt,frozen veg...|\n",
            "|         2727|01/01/2014|hamburger meat,fr...|\n",
            "|         2943|01/01/2014|whole milk,flower...|\n",
            "|         2974|01/01/2014|berries,whipped/s...|\n",
            "|         3681|01/01/2014|onions,whipped/so...|\n",
            "|         3797|01/01/2014|  waffles,whole milk|\n",
            "|         3942|01/01/2014|other vegetables,...|\n",
            "|         3956|01/01/2014|yogurt,shopping b...|\n",
            "|         4260|01/01/2014|    soda,brown bread|\n",
            "+-------------+----------+--------------------+\n",
            "only showing top 20 rows\n",
            "\n"
          ]
        }
      ],
      "source": [
        "import os\n",
        "\n",
        "if os.path.exists('/content/baskets/part-00000'):\n",
        "  sqlc.read.csv('/content/baskets/part-00000', header=True, sep=';').show()"
      ]
    },
    {
      "cell_type": "markdown",
      "metadata": {
        "id": "rSCVUBRSxzb6"
      },
      "source": [
        "## Câu 3: Tập phổ biến"
      ]
    },
    {
      "cell_type": "code",
      "execution_count": 233,
      "metadata": {
        "id": "YYxMBSI3HkXI",
        "colab": {
          "base_uri": "https://localhost:8080/",
          "height": 0
        },
        "outputId": "daef6299-7c28-4b1c-9415-fc4cacca900c"
      },
      "outputs": [
        {
          "output_type": "stream",
          "name": "stdout",
          "text": [
            "root\n",
            " |-- Member_number: string (nullable = true)\n",
            " |-- Date: string (nullable = true)\n",
            " |-- Items: array (nullable = true)\n",
            " |    |-- element: string (containsNull = true)\n",
            "\n",
            "<class 'pyspark.sql.dataframe.DataFrame'>\n",
            "+-------------+----------+--------------------+\n",
            "|Member_number|      Date|               Items|\n",
            "+-------------+----------+--------------------+\n",
            "|         1249|01/01/2014|[citrus fruit, co...|\n",
            "|         1381|01/01/2014|        [curd, soda]|\n",
            "|         1440|01/01/2014|[other vegetables...|\n",
            "|         1659|01/01/2014|[specialty chocol...|\n",
            "|         1789|01/01/2014|[hamburger meat, ...|\n",
            "|         1922|01/01/2014|[tropical fruit, ...|\n",
            "|         2226|01/01/2014|[sausage, bottled...|\n",
            "|         2237|01/01/2014|[bottled water, I...|\n",
            "|         2351|01/01/2014|[cleaner, shoppin...|\n",
            "|         2542|01/01/2014|[sliced cheese, b...|\n",
            "|         2610|01/01/2014|[hamburger meat, ...|\n",
            "|         2709|01/01/2014|[yogurt, frozen v...|\n",
            "|         2727|01/01/2014|[hamburger meat, ...|\n",
            "|         2943|01/01/2014|[whole milk, flow...|\n",
            "|         2974|01/01/2014|[berries, whipped...|\n",
            "|         3681|01/01/2014|[onions, whipped/...|\n",
            "|         3797|01/01/2014|[waffles, whole m...|\n",
            "|         3942|01/01/2014|[other vegetables...|\n",
            "|         3956|01/01/2014|[yogurt, shopping...|\n",
            "|         4260|01/01/2014| [soda, brown bread]|\n",
            "+-------------+----------+--------------------+\n",
            "only showing top 20 rows\n",
            "\n"
          ]
        }
      ],
      "source": [
        "'''\n",
        "Câu 3\n",
        "'''\n",
        "path = '/content/baskets/part-00000'\n",
        "df = sqlc.read.csv(path, header=True, sep=';')\n",
        "from pyspark.sql.functions import split, col, array_distinct, when\n",
        "# Convert colunm itemDesciption data from List to Array and rename\n",
        "dfBaskets = df.select(col(\"Member_number\"), col(\"Date\"), split(col(\"itemDescription\"),\",\").alias(\"Items\")) \\\n",
        "    .drop(\"name\")\n",
        "# Remove duplicated in column Items\n",
        "dfBaskets = dfBaskets.withColumn(\"Items\", array_distinct(\"Items\"))\n",
        "\n",
        "dfBaskets.printSchema()\n",
        "print(type(dfBaskets))\n",
        "dfBaskets.show()"
      ]
    },
    {
      "cell_type": "code",
      "execution_count": 234,
      "metadata": {
        "id": "tqVrNuNmiRha"
      },
      "outputs": [],
      "source": [
        "from pyspark.ml.fpm import FPGrowth\n",
        "\n",
        "fpGrowth = FPGrowth(itemsCol=\"Items\", minSupport=0.01, minConfidence=0.1)"
      ]
    },
    {
      "cell_type": "code",
      "execution_count": 235,
      "metadata": {
        "id": "rbU28qQIitOA"
      },
      "outputs": [],
      "source": [
        "# Create model\n",
        "model = fpGrowth.fit(dfBaskets)"
      ]
    },
    {
      "cell_type": "code",
      "execution_count": 236,
      "metadata": {
        "id": "eZkIfvVejWj3",
        "colab": {
          "base_uri": "https://localhost:8080/",
          "height": 0
        },
        "outputId": "ba15ac80-484d-482b-8d07-1073871c6243"
      },
      "outputs": [
        {
          "output_type": "stream",
          "name": "stdout",
          "text": [
            "+--------------------+----+\n",
            "|               items|freq|\n",
            "+--------------------+----+\n",
            "|              [beef]| 508|\n",
            "|             [sugar]| 265|\n",
            "|               [oil]| 223|\n",
            "|         [chocolate]| 353|\n",
            "|        [white wine]| 175|\n",
            "|             [candy]| 215|\n",
            "|  [processed cheese]| 152|\n",
            "|              [meat]| 252|\n",
            "|       [frankfurter]| 565|\n",
            "|           [sausage]| 903|\n",
            "|           [berries]| 326|\n",
            "|            [coffee]| 473|\n",
            "|         [pip fruit]| 734|\n",
            "|  [hygiene articles]| 205|\n",
            "|       [salty snack]| 281|\n",
            "|       [white bread]| 359|\n",
            "|[specialty chocol...| 239|\n",
            "|     [domestic eggs]| 555|\n",
            "|        [rolls/buns]|1646|\n",
            "|[rolls/buns, othe...| 158|\n",
            "+--------------------+----+\n",
            "only showing top 20 rows\n",
            "\n"
          ]
        }
      ],
      "source": [
        "# Display frequent itemsets.\n",
        "model.freqItemsets.show()"
      ]
    },
    {
      "cell_type": "code",
      "execution_count": 237,
      "metadata": {
        "id": "Y-ZGMR3kjY2b",
        "colab": {
          "base_uri": "https://localhost:8080/",
          "height": 0
        },
        "outputId": "ce372e99-250e-45ce-dba0-c79f045b36f9"
      },
      "outputs": [
        {
          "output_type": "stream",
          "name": "stdout",
          "text": [
            "+------------------+------------+-------------------+------------------+--------------------+\n",
            "|        antecedent|  consequent|         confidence|              lift|             support|\n",
            "+------------------+------------+-------------------+------------------+--------------------+\n",
            "|[other vegetables]|[whole milk]|0.12151067323481117|0.7694304712706219|0.014836596939116486|\n",
            "|          [yogurt]|[whole milk]|0.12996108949416343|0.8229402378760761|0.011160863463209249|\n",
            "|      [rolls/buns]|[whole milk]|0.12697448359659783|0.8040284376030019|0.013967787208447505|\n",
            "|            [soda]|[whole milk]|0.11975223675154852|0.7582956912879478|0.011628684087415625|\n",
            "+------------------+------------+-------------------+------------------+--------------------+\n",
            "\n"
          ]
        }
      ],
      "source": [
        "# Display generated association rules.\n",
        "model.associationRules.show()"
      ]
    },
    {
      "cell_type": "markdown",
      "metadata": {
        "id": "tP0VxuyzydLa"
      },
      "source": [
        "## Câu 4: Giỏ hàng thành vectors "
      ]
    },
    {
      "cell_type": "code",
      "execution_count": 238,
      "metadata": {
        "id": "Wmbme2mTefuZ"
      },
      "outputs": [],
      "source": [
        "'''\n",
        "Câu 4\n",
        "'''\n",
        "# Similar with exercise 2 but does not contain colunm Date\n",
        "members = data \\\n",
        "        .flatMap(lambda x: x.split('/n')) \\\n",
        "        .map(lambda x: (\n",
        "            (x.split(',')[0]), x.split(',')[2])\n",
        "        )\\\n",
        "        .reduceByKey(lambda x, y: x +','+ y)\n",
        "\n",
        "# Using temporary array listData to store data of 2 columns: Member_number and Items\n",
        "# Save to folder /content/baskets\n",
        "members = members.collect()\n",
        "listData = []\n",
        "\n",
        "for member in members:\n",
        "  # print(member)\n",
        "  member = member[0]+';'+member[1]\n",
        "  listData.append(member)\n",
        "\n",
        "cau4NewRdd = sc.parallelize(listData)  \n",
        "cau4NewRdd.saveAsTextFile('/content/members')"
      ]
    },
    {
      "cell_type": "code",
      "execution_count": 239,
      "metadata": {
        "id": "5XhdqHDnymXG",
        "colab": {
          "base_uri": "https://localhost:8080/",
          "height": 0
        },
        "outputId": "15d15a70-c730-4715-9b64-8b9972f24a34"
      },
      "outputs": [
        {
          "output_type": "stream",
          "name": "stdout",
          "text": [
            "+-------------+--------------------+\n",
            "|Member_number|     itemDescription|\n",
            "+-------------+--------------------+\n",
            "|         1249|citrus fruit,coff...|\n",
            "|         1381|curd,soda,coffee,...|\n",
            "|         1440|other vegetables,...|\n",
            "|         1659|specialty chocola...|\n",
            "|         1789|hamburger meat,ca...|\n",
            "|         1922|tropical fruit,ot...|\n",
            "|         2226|sausage,bottled w...|\n",
            "|         2237|bottled water,Ins...|\n",
            "|         2351|cleaner,shopping ...|\n",
            "|         2542|sliced cheese,bot...|\n",
            "|         2610|hamburger meat,bo...|\n",
            "|         2709|yogurt,frozen veg...|\n",
            "|         2727|hamburger meat,fr...|\n",
            "|         2943|whole milk,flower...|\n",
            "|         2974|berries,whipped/s...|\n",
            "|         3681|onions,whipped/so...|\n",
            "|         3797|waffles,whole mil...|\n",
            "|         3942|other vegetables,...|\n",
            "|         3956|yogurt,shopping b...|\n",
            "|         4260|soda,brown bread,...|\n",
            "+-------------+--------------------+\n",
            "only showing top 20 rows\n",
            "\n"
          ]
        }
      ],
      "source": [
        "import os\n",
        "\n",
        "if os.path.exists('/content/members/part-00000'):\n",
        "  dfMembers = sqlc.read.csv('/content/members/part-00000', header=True, sep=';')\n",
        "  dfMembers.show()"
      ]
    },
    {
      "cell_type": "code",
      "execution_count": 240,
      "metadata": {
        "id": "6ChHB5sLzUn-",
        "colab": {
          "base_uri": "https://localhost:8080/",
          "height": 0
        },
        "outputId": "d35f37fb-78ca-42b1-ea83-cd2f48c085c9"
      },
      "outputs": [
        {
          "output_type": "stream",
          "name": "stdout",
          "text": [
            "root\n",
            " |-- Member_number: string (nullable = true)\n",
            " |-- Items: string (nullable = true)\n",
            "\n"
          ]
        }
      ],
      "source": [
        "# Rename colunm itemDescription to Items\n",
        "dfMembers = dfMembers.withColumnRenamed('itemDescription', 'Items')\n",
        "dfMembers.printSchema()"
      ]
    },
    {
      "cell_type": "code",
      "execution_count": 241,
      "metadata": {
        "id": "FBD5mUh81CxQ",
        "colab": {
          "base_uri": "https://localhost:8080/",
          "height": 0
        },
        "outputId": "c003327c-0a90-4290-c72e-9cf8dcbaa488"
      },
      "outputs": [
        {
          "output_type": "stream",
          "name": "stdout",
          "text": [
            "['Instant food products', 'UHT-milk', 'abrasive cleaner', 'artif. sweetener', 'baby cosmetics', 'bags', 'baking powder', 'bathroom cleaner', 'beef', 'berries', 'beverages', 'bottled beer', 'bottled water', 'brandy', 'brown bread', 'butter', 'butter milk', 'cake bar', 'candles', 'candy', 'canned beer', 'canned fish', 'canned fruit', 'canned vegetables', 'cat food', 'cereals', 'chewing gum', 'chicken', 'chocolate', 'chocolate marshmallow', 'citrus fruit', 'cleaner', 'cling film/bags', 'cocoa drinks', 'coffee', 'condensed milk', 'cooking chocolate', 'cookware', 'cream', 'cream cheese ', 'curd', 'curd cheese', 'decalcifier', 'dental care', 'dessert', 'detergent', 'dish cleaner', 'dishes', 'dog food', 'domestic eggs', 'female sanitary products', 'finished products', 'fish', 'flour', 'flower (seeds)', 'flower soil/fertilizer', 'frankfurter', 'frozen chicken', 'frozen dessert', 'frozen fish', 'frozen fruits', 'frozen meals', 'frozen potato products', 'frozen vegetables', 'fruit/vegetable juice', 'grapes', 'hair spray', 'ham', 'hamburger meat', 'hard cheese', 'herbs', 'honey', 'house keeping products', 'hygiene articles', 'ice cream', 'instant coffee', 'jam', 'ketchup', 'kitchen towels', 'kitchen utensil', 'light bulbs', 'liqueur', 'liquor', 'liquor (appetizer)', 'liver loaf', 'long life bakery product', 'make up remover', 'male cosmetics', 'margarine', 'mayonnaise', 'meat', 'meat spreads', 'misc. beverages', 'mustard', 'napkins', 'newspapers', 'nut snack', 'nuts/prunes', 'oil', 'onions', 'organic products', 'organic sausage', 'other vegetables', 'packaged fruit/vegetables', 'pasta', 'pastry', 'pet care', 'photo/film', 'pickled vegetables', 'pip fruit', 'popcorn', 'pork', 'pot plants', 'potato products', 'preservation products', 'processed cheese', 'prosecco', 'pudding powder', 'ready soups', 'red/blush wine', 'rice', 'roll products ', 'rolls/buns', 'root vegetables', 'rubbing alcohol', 'rum', 'salad dressing', 'salt', 'salty snack', 'sauces', 'sausage', 'seasonal products', 'semi-finished bread', 'shopping bags', 'skin care', 'sliced cheese', 'snack products', 'soap', 'soda', 'soft cheese', 'softener', 'soups', 'sparkling wine', 'specialty bar', 'specialty cheese', 'specialty chocolate', 'specialty fat', 'specialty vegetables', 'spices', 'spread cheese', 'sugar', 'sweet spreads', 'syrup', 'tea', 'tidbits', 'toilet cleaner', 'tropical fruit', 'turkey', 'vinegar', 'waffles', 'whipped/sour cream', 'whisky', 'white bread', 'white wine', 'whole milk', 'yogurt', 'zwieback']\n"
          ]
        }
      ],
      "source": [
        "# Iterate through dfMembers\n",
        "items = []\n",
        "for i in dfMembers.collect():\n",
        "  # Split item in the same row\n",
        "  itemInTheSameRow = i.Items.split(',')\n",
        "  for j in itemInTheSameRow:\n",
        "    # If items contains j then skip this item, else append to items\n",
        "    if j not in items:\n",
        "      items.append(j)\n",
        "\n",
        "# reverse=False will sort items in this list by ASC order\n",
        "items.sort(reverse=False)\n",
        "print(items)"
      ]
    },
    {
      "cell_type": "code",
      "execution_count": 242,
      "metadata": {
        "id": "Fba9cbrF30dv",
        "colab": {
          "base_uri": "https://localhost:8080/",
          "height": 0
        },
        "outputId": "25ddef6b-dcd6-4dad-fa86-1f2e8f6c5634"
      },
      "outputs": [
        {
          "output_type": "stream",
          "name": "stdout",
          "text": [
            "{'Instant food products': None, 'UHT-milk': None, 'abrasive cleaner': None, 'artif. sweetener': None, 'baby cosmetics': None, 'bags': None, 'baking powder': None, 'bathroom cleaner': None, 'beef': None, 'berries': None, 'beverages': None, 'bottled beer': None, 'bottled water': None, 'brandy': None, 'brown bread': None, 'butter': None, 'butter milk': None, 'cake bar': None, 'candles': None, 'candy': None, 'canned beer': None, 'canned fish': None, 'canned fruit': None, 'canned vegetables': None, 'cat food': None, 'cereals': None, 'chewing gum': None, 'chicken': None, 'chocolate': None, 'chocolate marshmallow': None, 'citrus fruit': None, 'cleaner': None, 'cling film/bags': None, 'cocoa drinks': None, 'coffee': None, 'condensed milk': None, 'cooking chocolate': None, 'cookware': None, 'cream': None, 'cream cheese ': None, 'curd': None, 'curd cheese': None, 'decalcifier': None, 'dental care': None, 'dessert': None, 'detergent': None, 'dish cleaner': None, 'dishes': None, 'dog food': None, 'domestic eggs': None, 'female sanitary products': None, 'finished products': None, 'fish': None, 'flour': None, 'flower (seeds)': None, 'flower soil/fertilizer': None, 'frankfurter': None, 'frozen chicken': None, 'frozen dessert': None, 'frozen fish': None, 'frozen fruits': None, 'frozen meals': None, 'frozen potato products': None, 'frozen vegetables': None, 'fruit/vegetable juice': None, 'grapes': None, 'hair spray': None, 'ham': None, 'hamburger meat': None, 'hard cheese': None, 'herbs': None, 'honey': None, 'house keeping products': None, 'hygiene articles': None, 'ice cream': None, 'instant coffee': None, 'jam': None, 'ketchup': None, 'kitchen towels': None, 'kitchen utensil': None, 'light bulbs': None, 'liqueur': None, 'liquor': None, 'liquor (appetizer)': None, 'liver loaf': None, 'long life bakery product': None, 'make up remover': None, 'male cosmetics': None, 'margarine': None, 'mayonnaise': None, 'meat': None, 'meat spreads': None, 'misc. beverages': None, 'mustard': None, 'napkins': None, 'newspapers': None, 'nut snack': None, 'nuts/prunes': None, 'oil': None, 'onions': None, 'organic products': None, 'organic sausage': None, 'other vegetables': None, 'packaged fruit/vegetables': None, 'pasta': None, 'pastry': None, 'pet care': None, 'photo/film': None, 'pickled vegetables': None, 'pip fruit': None, 'popcorn': None, 'pork': None, 'pot plants': None, 'potato products': None, 'preservation products': None, 'processed cheese': None, 'prosecco': None, 'pudding powder': None, 'ready soups': None, 'red/blush wine': None, 'rice': None, 'roll products ': None, 'rolls/buns': None, 'root vegetables': None, 'rubbing alcohol': None, 'rum': None, 'salad dressing': None, 'salt': None, 'salty snack': None, 'sauces': None, 'sausage': None, 'seasonal products': None, 'semi-finished bread': None, 'shopping bags': None, 'skin care': None, 'sliced cheese': None, 'snack products': None, 'soap': None, 'soda': None, 'soft cheese': None, 'softener': None, 'soups': None, 'sparkling wine': None, 'specialty bar': None, 'specialty cheese': None, 'specialty chocolate': None, 'specialty fat': None, 'specialty vegetables': None, 'spices': None, 'spread cheese': None, 'sugar': None, 'sweet spreads': None, 'syrup': None, 'tea': None, 'tidbits': None, 'toilet cleaner': None, 'tropical fruit': None, 'turkey': None, 'vinegar': None, 'waffles': None, 'whipped/sour cream': None, 'whisky': None, 'white bread': None, 'white wine': None, 'whole milk': None, 'yogurt': None, 'zwieback': None}\n"
          ]
        }
      ],
      "source": [
        "# Create dictionary dictItems from list items\n",
        "dictItems = dict.fromkeys(items)\n",
        "\n",
        "print(dictItems)"
      ]
    },
    {
      "cell_type": "code",
      "execution_count": 243,
      "metadata": {
        "id": "eEvSUNTn45XR",
        "colab": {
          "base_uri": "https://localhost:8080/",
          "height": 0
        },
        "outputId": "1a717027-a245-499b-c44b-7a9ab2399716"
      },
      "outputs": [
        {
          "output_type": "stream",
          "name": "stdout",
          "text": [
            "{'Instant food products': 0, 'UHT-milk': 1, 'abrasive cleaner': 2, 'artif. sweetener': 3, 'baby cosmetics': 4, 'bags': 5, 'baking powder': 6, 'bathroom cleaner': 7, 'beef': 8, 'berries': 9, 'beverages': 10, 'bottled beer': 11, 'bottled water': 12, 'brandy': 13, 'brown bread': 14, 'butter': 15, 'butter milk': 16, 'cake bar': 17, 'candles': 18, 'candy': 19, 'canned beer': 20, 'canned fish': 21, 'canned fruit': 22, 'canned vegetables': 23, 'cat food': 24, 'cereals': 25, 'chewing gum': 26, 'chicken': 27, 'chocolate': 28, 'chocolate marshmallow': 29, 'citrus fruit': 30, 'cleaner': 31, 'cling film/bags': 32, 'cocoa drinks': 33, 'coffee': 34, 'condensed milk': 35, 'cooking chocolate': 36, 'cookware': 37, 'cream': 38, 'cream cheese ': 39, 'curd': 40, 'curd cheese': 41, 'decalcifier': 42, 'dental care': 43, 'dessert': 44, 'detergent': 45, 'dish cleaner': 46, 'dishes': 47, 'dog food': 48, 'domestic eggs': 49, 'female sanitary products': 50, 'finished products': 51, 'fish': 52, 'flour': 53, 'flower (seeds)': 54, 'flower soil/fertilizer': 55, 'frankfurter': 56, 'frozen chicken': 57, 'frozen dessert': 58, 'frozen fish': 59, 'frozen fruits': 60, 'frozen meals': 61, 'frozen potato products': 62, 'frozen vegetables': 63, 'fruit/vegetable juice': 64, 'grapes': 65, 'hair spray': 66, 'ham': 67, 'hamburger meat': 68, 'hard cheese': 69, 'herbs': 70, 'honey': 71, 'house keeping products': 72, 'hygiene articles': 73, 'ice cream': 74, 'instant coffee': 75, 'jam': 76, 'ketchup': 77, 'kitchen towels': 78, 'kitchen utensil': 79, 'light bulbs': 80, 'liqueur': 81, 'liquor': 82, 'liquor (appetizer)': 83, 'liver loaf': 84, 'long life bakery product': 85, 'make up remover': 86, 'male cosmetics': 87, 'margarine': 88, 'mayonnaise': 89, 'meat': 90, 'meat spreads': 91, 'misc. beverages': 92, 'mustard': 93, 'napkins': 94, 'newspapers': 95, 'nut snack': 96, 'nuts/prunes': 97, 'oil': 98, 'onions': 99, 'organic products': 100, 'organic sausage': 101, 'other vegetables': 102, 'packaged fruit/vegetables': 103, 'pasta': 104, 'pastry': 105, 'pet care': 106, 'photo/film': 107, 'pickled vegetables': 108, 'pip fruit': 109, 'popcorn': 110, 'pork': 111, 'pot plants': 112, 'potato products': 113, 'preservation products': 114, 'processed cheese': 115, 'prosecco': 116, 'pudding powder': 117, 'ready soups': 118, 'red/blush wine': 119, 'rice': 120, 'roll products ': 121, 'rolls/buns': 122, 'root vegetables': 123, 'rubbing alcohol': 124, 'rum': 125, 'salad dressing': 126, 'salt': 127, 'salty snack': 128, 'sauces': 129, 'sausage': 130, 'seasonal products': 131, 'semi-finished bread': 132, 'shopping bags': 133, 'skin care': 134, 'sliced cheese': 135, 'snack products': 136, 'soap': 137, 'soda': 138, 'soft cheese': 139, 'softener': 140, 'soups': 141, 'sparkling wine': 142, 'specialty bar': 143, 'specialty cheese': 144, 'specialty chocolate': 145, 'specialty fat': 146, 'specialty vegetables': 147, 'spices': 148, 'spread cheese': 149, 'sugar': 150, 'sweet spreads': 151, 'syrup': 152, 'tea': 153, 'tidbits': 154, 'toilet cleaner': 155, 'tropical fruit': 156, 'turkey': 157, 'vinegar': 158, 'waffles': 159, 'whipped/sour cream': 160, 'whisky': 161, 'white bread': 162, 'white wine': 163, 'whole milk': 164, 'yogurt': 165, 'zwieback': 166}\n"
          ]
        }
      ],
      "source": [
        "# Update value of dictionary dictItems\n",
        "for key in dictItems:\n",
        "  # print(key, dictItems[key])\n",
        "  dictItems[key] = items.index(key) \n",
        "\n",
        "print(dictItems)"
      ]
    },
    {
      "cell_type": "code",
      "execution_count": 244,
      "metadata": {
        "id": "mDkrM9-J6aYZ",
        "colab": {
          "base_uri": "https://localhost:8080/",
          "height": 0
        },
        "outputId": "1029d6b8-64b6-4a8b-d749-b0265a8a83d5"
      },
      "outputs": [
        {
          "output_type": "stream",
          "name": "stdout",
          "text": [
            "1249 citrus fruit,coffee,soda,frozen meals,bottled beer\n"
          ]
        }
      ],
      "source": [
        "print(dfMembers.first()['Member_number'], dfMembers.first()['Items'])"
      ]
    },
    {
      "cell_type": "code",
      "execution_count": 245,
      "metadata": {
        "id": "zMrGHSiZ66UD"
      },
      "outputs": [],
      "source": [
        "from pyspark.ml.linalg import Vectors\n",
        "\n",
        "# Function basket2vector\n",
        "def basket2vector(member, basket, dictItems):\n",
        "  itemInBasketPosition = []\n",
        "  isItInDictItems = []\n",
        "  # Get item in basket\n",
        "  itemInBasket = basket.split(',')\n",
        "  # Sort and remove duplicated item in basket\n",
        "  itemInBasket = list(dict.fromkeys(itemInBasket))\n",
        "  itemInBasket.sort()\n",
        "  for item in itemInBasket:\n",
        "    # Check if this item exists in dictItems\n",
        "    if item in dictItems.keys():\n",
        "      # Append position to itemInBasketPosition and mark as found in isItInDictItems \n",
        "      itemInBasketPosition.append(dictItems[item])\n",
        "      isItInDictItems.append(1.0)\n",
        "    else:\n",
        "      # Append 0 to itemInBasketPosition and mark as  not found in isItInDictItems \n",
        "      itemInBasketPosition.append(0)  \n",
        "      isItInDictItems.append(0.0)\n",
        "\n",
        "  # print(member)\n",
        "  # print(itemInBasketPosition)\n",
        "  # print(isItInDictItems)\n",
        "\n",
        "  # Create vector spare\n",
        "  return Vectors.sparse(member, itemInBasketPosition, isItInDictItems)"
      ]
    },
    {
      "cell_type": "code",
      "execution_count": 246,
      "metadata": {
        "id": "ytoxR45y-EHo",
        "colab": {
          "base_uri": "https://localhost:8080/",
          "height": 0
        },
        "outputId": "f2f7383c-93fd-4fe1-abbc-627e390d665a"
      },
      "outputs": [
        {
          "output_type": "stream",
          "name": "stdout",
          "text": [
            "(1249,[11,30,34,61,138],[1.0,1.0,1.0,1.0,1.0])\n"
          ]
        }
      ],
      "source": [
        "print(basket2vector(dfMembers.first()['Member_number'], dfMembers.first()['Items'], dictItems))"
      ]
    },
    {
      "cell_type": "markdown",
      "metadata": {
        "id": "W7zegTh8yogd"
      },
      "source": [
        "## Câu 5: Giỏ hàng tương tự"
      ]
    },
    {
      "cell_type": "code",
      "execution_count": 247,
      "metadata": {
        "id": "BKxpa0DyuL7_",
        "colab": {
          "base_uri": "https://localhost:8080/",
          "height": 0
        },
        "outputId": "a0dd253c-f836-4457-d0ce-836ce3dce6b5"
      },
      "outputs": [
        {
          "output_type": "stream",
          "name": "stdout",
          "text": [
            "+-------------+--------------------+\n",
            "|Member_number|               Items|\n",
            "+-------------+--------------------+\n",
            "|         1249|citrus fruit,coff...|\n",
            "|         1381|curd,soda,coffee,...|\n",
            "|         1440|other vegetables,...|\n",
            "|         1659|specialty chocola...|\n",
            "|         1789|hamburger meat,ca...|\n",
            "|         1922|tropical fruit,ot...|\n",
            "|         2226|sausage,bottled w...|\n",
            "|         2237|bottled water,Ins...|\n",
            "|         2351|cleaner,shopping ...|\n",
            "|         2542|sliced cheese,bot...|\n",
            "|         2610|hamburger meat,bo...|\n",
            "|         2709|yogurt,frozen veg...|\n",
            "|         2727|hamburger meat,fr...|\n",
            "|         2943|whole milk,flower...|\n",
            "|         2974|berries,whipped/s...|\n",
            "|         3681|onions,whipped/so...|\n",
            "|         3797|waffles,whole mil...|\n",
            "|         3942|other vegetables,...|\n",
            "|         3956|yogurt,shopping b...|\n",
            "|         4260|soda,brown bread,...|\n",
            "+-------------+--------------------+\n",
            "only showing top 20 rows\n",
            "\n"
          ]
        }
      ],
      "source": [
        "'''\n",
        "Câu 5\n",
        "'''\n",
        "from pyspark.ml.feature import MinHashLSH, VectorAssembler\n",
        "from pyspark.sql.functions import when\n",
        "\n",
        "mh = MinHashLSH(inputCol=\"Items\", outputCol=\"Hashes\", numHashTables=5)\n",
        "\n",
        "dfMembers.show()"
      ]
    },
    {
      "cell_type": "code",
      "source": [
        "# This part is quite hard. this block to re-create dfMembers\n",
        "if os.path.exists('/content/members/part-00000'):\n",
        "  dfMembers = sqlc.read.csv('/content/members/part-00000', header=True, sep=';')\n",
        "  dfMembers = dfMembers.withColumnRenamed('itemDescription', 'Items')\n",
        "  dfMembers.show()"
      ],
      "metadata": {
        "id": "zpwRZWrJkPQV",
        "colab": {
          "base_uri": "https://localhost:8080/",
          "height": 0
        },
        "outputId": "1331b8a3-fbbf-4841-814f-f5f53dd5a5bd"
      },
      "execution_count": 248,
      "outputs": [
        {
          "output_type": "stream",
          "name": "stdout",
          "text": [
            "+-------------+--------------------+\n",
            "|Member_number|               Items|\n",
            "+-------------+--------------------+\n",
            "|         1249|citrus fruit,coff...|\n",
            "|         1381|curd,soda,coffee,...|\n",
            "|         1440|other vegetables,...|\n",
            "|         1659|specialty chocola...|\n",
            "|         1789|hamburger meat,ca...|\n",
            "|         1922|tropical fruit,ot...|\n",
            "|         2226|sausage,bottled w...|\n",
            "|         2237|bottled water,Ins...|\n",
            "|         2351|cleaner,shopping ...|\n",
            "|         2542|sliced cheese,bot...|\n",
            "|         2610|hamburger meat,bo...|\n",
            "|         2709|yogurt,frozen veg...|\n",
            "|         2727|hamburger meat,fr...|\n",
            "|         2943|whole milk,flower...|\n",
            "|         2974|berries,whipped/s...|\n",
            "|         3681|onions,whipped/so...|\n",
            "|         3797|waffles,whole mil...|\n",
            "|         3942|other vegetables,...|\n",
            "|         3956|yogurt,shopping b...|\n",
            "|         4260|soda,brown bread,...|\n",
            "+-------------+--------------------+\n",
            "only showing top 20 rows\n",
            "\n"
          ]
        }
      ]
    },
    {
      "cell_type": "code",
      "source": [
        "# Apply change to column Items with function basket2Vector in exercise 5\n",
        "dfMembers = dfMembers.rdd.map(lambda x: \n",
        "    (x.Member_number, basket2vector(x.Member_number, x.Items, dictItems)) \n",
        "    ).toDF([\"Member_number\",\"Items\"])\n",
        "dfMembers.show()"
      ],
      "metadata": {
        "id": "tSkkzGKdnGAO",
        "colab": {
          "base_uri": "https://localhost:8080/",
          "height": 0
        },
        "outputId": "cae7d9d1-079a-4de8-e5e7-5c595991b2f2"
      },
      "execution_count": 249,
      "outputs": [
        {
          "output_type": "stream",
          "name": "stdout",
          "text": [
            "+-------------+--------------------+\n",
            "|Member_number|               Items|\n",
            "+-------------+--------------------+\n",
            "|         1249|(1249,[11,30,34,6...|\n",
            "|         1381|(1381,[1,10,11,28...|\n",
            "|         1440|(1440,[28,64,102,...|\n",
            "|         1659|(1659,[12,14,26,3...|\n",
            "|         1789|(1789,[8,18,30,58...|\n",
            "|         1922|(1922,[10,12,15,1...|\n",
            "|         2226|(2226,[9,12,23,40...|\n",
            "|         2237|(2237,[0,12,27,34...|\n",
            "|         2351|(2351,[31,49,75,1...|\n",
            "|         2542|(2542,[12,82,88,9...|\n",
            "|         2610|(2610,[11,49,68,9...|\n",
            "|         2709|(2709,[12,30,40,4...|\n",
            "|         2727|(2727,[11,52,56,6...|\n",
            "|         2943|(2943,[20,29,33,5...|\n",
            "|         2974|(2974,[9,12,63,70...|\n",
            "|         3681|(3681,[47,63,88,9...|\n",
            "|         3797|(3797,[15,38,64,1...|\n",
            "|         3942|(3942,[0,21,32,35...|\n",
            "|         3956|(3956,[0,16,21,28...|\n",
            "|         4260|(4260,[14,20,27,6...|\n",
            "+-------------+--------------------+\n",
            "only showing top 20 rows\n",
            "\n"
          ]
        }
      ]
    },
    {
      "cell_type": "code",
      "source": [
        "# The 1st customer is used for approxNearestNeighbors()\n",
        "TheFirstCustomer = dfMembers.first()\n",
        "print(TheFirstCustomer.Items)"
      ],
      "metadata": {
        "id": "dloW6aFRsPQD",
        "colab": {
          "base_uri": "https://localhost:8080/",
          "height": 0
        },
        "outputId": "77713fb8-dd12-4082-f55c-53cfb8e3fd55"
      },
      "execution_count": 250,
      "outputs": [
        {
          "output_type": "stream",
          "name": "stdout",
          "text": [
            "(1249,[11,30,34,61,138],[1.0,1.0,1.0,1.0,1.0])\n"
          ]
        }
      ]
    },
    {
      "cell_type": "code",
      "source": [
        "model = mh.fit(dfMembers)\n",
        "model.transform(dfMembers).show()"
      ],
      "metadata": {
        "id": "jqCd5pw1gDwt",
        "colab": {
          "base_uri": "https://localhost:8080/",
          "height": 0
        },
        "outputId": "599e60a1-551d-49c3-de0f-fba5c4c7b59f"
      },
      "execution_count": 251,
      "outputs": [
        {
          "output_type": "stream",
          "name": "stdout",
          "text": [
            "+-------------+--------------------+--------------------+\n",
            "|Member_number|               Items|              Hashes|\n",
            "+-------------+--------------------+--------------------+\n",
            "|         1249|(1249,[11,30,34,6...|[[2.99438855E8], ...|\n",
            "|         1381|(1381,[1,10,11,28...|[[2.22517691E8], ...|\n",
            "|         1440|(1440,[28,64,102,...|[[2.8606765E7], [...|\n",
            "|         1659|(1659,[12,14,26,3...|[[1.83253101E8], ...|\n",
            "|         1789|(1789,[8,18,30,58...|[[1.63620806E8], ...|\n",
            "|         1922|(1922,[10,12,15,1...|[[2.8606765E7], [...|\n",
            "|         2226|(2226,[9,12,23,40...|[[2.8606765E7], [...|\n",
            "|         2237|(2237,[0,12,27,34...|[[4.7435052E7], [...|\n",
            "|         2351|(2351,[31,49,75,1...|[[4.36060912E8], ...|\n",
            "|         2542|(2542,[12,82,88,9...|[[1.44792519E8], ...|\n",
            "|         2610|(2610,[11,49,68,9...|[[2.22517691E8], ...|\n",
            "|         2709|(2709,[12,30,40,4...|[[3.1907115E8], [...|\n",
            "|         2727|(2727,[11,52,56,6...|[[2.99438855E8], ...|\n",
            "|         2943|(2943,[20,29,33,5...|[[2.8606765E7], [...|\n",
            "|         2974|(2974,[9,12,63,70...|[[4.823906E7], [4...|\n",
            "|         3681|(3681,[47,63,88,9...|[[1.83253101E8], ...|\n",
            "|         3797|(3797,[15,38,64,1...|[[2.8606765E7], [...|\n",
            "|         3942|(3942,[0,21,32,35...|[[4.823906E7], [3...|\n",
            "|         3956|(3956,[0,16,21,28...|[[4.823906E7], [3...|\n",
            "|         4260|(4260,[14,20,27,6...|[[2.8606765E7], [...|\n",
            "+-------------+--------------------+--------------------+\n",
            "only showing top 20 rows\n",
            "\n"
          ]
        }
      ]
    },
    {
      "cell_type": "code",
      "source": [
        "# Compute the locality sensitive hashes for the input rows, then perform approximate\n",
        "# similarity join.\n",
        "# We could avoid computing hashes by passing in the already-transformed dataset, e.g.\n",
        "# `model.approxSimilarityJoin(transformedA, transformedB, 0.6)`\n",
        "print(\"Approximately joining dfA and dfB on distance smaller than 0.3:\")\n",
        "model.approxSimilarityJoin(dfMembers, dfMembers, 0.3, distCol=\"JaccardDistance\")\\\n",
        "    .select(col(\"datasetA.Member_number\").alias(\"Member_number_A\"),\n",
        "            col(\"datasetB.Member_number\").alias(\"Member_number_B\"),\n",
        "            col(\"JaccardDistance\")).show()"
      ],
      "metadata": {
        "id": "YNXwKNstrxgI",
        "colab": {
          "base_uri": "https://localhost:8080/",
          "height": 0
        },
        "outputId": "53c1863e-f23a-4bd7-f9be-99a24afa1bee"
      },
      "execution_count": 252,
      "outputs": [
        {
          "output_type": "stream",
          "name": "stdout",
          "text": [
            "Approximately joining dfA and dfB on distance smaller than 0.3:\n",
            "+---------------+---------------+------------------+\n",
            "|Member_number_A|Member_number_B|   JaccardDistance|\n",
            "+---------------+---------------+------------------+\n",
            "|           2355|           2355|               0.0|\n",
            "|           4367|           4367|               0.0|\n",
            "|           4693|           4693|               0.0|\n",
            "|           4924|           4924|               0.0|\n",
            "|           3518|           3518|               0.0|\n",
            "|           2678|           2678|               0.0|\n",
            "|           2335|           2335|               0.0|\n",
            "|           3625|           3625|               0.0|\n",
            "|           3932|           3932|               0.0|\n",
            "|           4937|           4937|               0.0|\n",
            "|           1847|           1847|               0.0|\n",
            "|           4342|           1056|0.2857142857142857|\n",
            "|           3319|           3319|               0.0|\n",
            "|           1596|           1596|               0.0|\n",
            "|           3063|           3063|               0.0|\n",
            "|           2080|           2080|               0.0|\n",
            "|           2123|           2123|               0.0|\n",
            "|           4933|           4933|               0.0|\n",
            "|           3080|           3080|               0.0|\n",
            "|           2010|           2010|               0.0|\n",
            "+---------------+---------------+------------------+\n",
            "only showing top 20 rows\n",
            "\n"
          ]
        }
      ]
    },
    {
      "cell_type": "code",
      "source": [
        "# Compute the locality sensitive hashes for the input rows, then perform approximate nearest\n",
        "# neighbor search.\n",
        "# We could avoid computing hashes by passing in the already-transformed dataset, e.g.\n",
        "# `model.approxNearestNeighbors(transformedA, key, 2)`\n",
        "# It may return less than 2 rows when not enough approximate near-neighbor candidates are\n",
        "# found.\n",
        "print(\"Approximately searching dfMembers for 5 nearest neighbors of the first customer:\")\n",
        "model.approxNearestNeighbors(dfMembers, TheFirstCustomer.Items, 5).show()"
      ],
      "metadata": {
        "id": "Yy5fvEZatQNj",
        "colab": {
          "base_uri": "https://localhost:8080/",
          "height": 0
        },
        "outputId": "19a306e3-d709-468b-ab49-1baa1ed7375c"
      },
      "execution_count": 253,
      "outputs": [
        {
          "output_type": "stream",
          "name": "stdout",
          "text": [
            "Approximately searching dfMembers for 5 nearest neighbors of the first customer:\n",
            "+-------------+--------------------+--------------------+------------------+\n",
            "|Member_number|               Items|              Hashes|           distCol|\n",
            "+-------------+--------------------+--------------------+------------------+\n",
            "|         1249|(1249,[11,30,34,6...|[[2.99438855E8], ...|               0.0|\n",
            "|         1321|(1321,[11,30,138]...|[[2.99438855E8], ...|               0.4|\n",
            "|         1263|(1263,[11,30,61,1...|[[2.99438855E8], ...|               0.5|\n",
            "|         1794|(1794,[11,30,138,...|[[2.99438855E8], ...|0.5714285714285714|\n",
            "|         4327|(4327,[30,34,63,7...|[[2.02885396E8], ...|0.5714285714285714|\n",
            "+-------------+--------------------+--------------------+------------------+\n",
            "\n"
          ]
        }
      ]
    },
    {
      "cell_type": "markdown",
      "metadata": {
        "id": "ZNfhgOGKy2Yh"
      },
      "source": [
        "## Câu 6: Phân cụm người dùng theo giỏ hàng"
      ]
    },
    {
      "cell_type": "code",
      "execution_count": 254,
      "metadata": {
        "id": "sWo0HJZ2wQsb",
        "colab": {
          "base_uri": "https://localhost:8080/",
          "height": 0
        },
        "outputId": "cb6896b3-e109-40fa-cdf8-229470bec7ef"
      },
      "outputs": [
        {
          "output_type": "stream",
          "name": "stdout",
          "text": [
            "+-------------+--------------------+\n",
            "|Member_number|               Items|\n",
            "+-------------+--------------------+\n",
            "|         1249|(1249,[11,30,34,6...|\n",
            "|         1381|(1381,[1,10,11,28...|\n",
            "|         1440|(1440,[28,64,102,...|\n",
            "|         1659|(1659,[12,14,26,3...|\n",
            "|         1789|(1789,[8,18,30,58...|\n",
            "|         1922|(1922,[10,12,15,1...|\n",
            "|         2226|(2226,[9,12,23,40...|\n",
            "|         2237|(2237,[0,12,27,34...|\n",
            "|         2351|(2351,[31,49,75,1...|\n",
            "|         2542|(2542,[12,82,88,9...|\n",
            "|         2610|(2610,[11,49,68,9...|\n",
            "|         2709|(2709,[12,30,40,4...|\n",
            "|         2727|(2727,[11,52,56,6...|\n",
            "|         2943|(2943,[20,29,33,5...|\n",
            "|         2974|(2974,[9,12,63,70...|\n",
            "|         3681|(3681,[47,63,88,9...|\n",
            "|         3797|(3797,[15,38,64,1...|\n",
            "|         3942|(3942,[0,21,32,35...|\n",
            "|         3956|(3956,[0,16,21,28...|\n",
            "|         4260|(4260,[14,20,27,6...|\n",
            "+-------------+--------------------+\n",
            "only showing top 20 rows\n",
            "\n",
            "root\n",
            " |-- Member_number: string (nullable = true)\n",
            " |-- Items: vector (nullable = true)\n",
            "\n"
          ]
        }
      ],
      "source": [
        "'''\n",
        "Câu 6\n",
        "'''\n",
        "dfMembers.show()\n",
        "dfMembers.printSchema()"
      ]
    },
    {
      "cell_type": "code",
      "source": [
        "dfMembers = dfMembers.rdd.map(lambda x: \n",
        "    (x.Member_number, Vectors.dense(x.Items.toArray())) \n",
        "    ).toDF([\"label\",\"features\"])\n",
        "dfMembers.show()"
      ],
      "metadata": {
        "id": "HYCrBlwV9aUi",
        "colab": {
          "base_uri": "https://localhost:8080/",
          "height": 0
        },
        "outputId": "9d09a360-4f7f-4af6-c295-a5bd21837596"
      },
      "execution_count": 255,
      "outputs": [
        {
          "output_type": "stream",
          "name": "stdout",
          "text": [
            "+-----+--------------------+\n",
            "|label|            features|\n",
            "+-----+--------------------+\n",
            "| 1249|[0.0,0.0,0.0,0.0,...|\n",
            "| 1381|[0.0,1.0,0.0,0.0,...|\n",
            "| 1440|[0.0,0.0,0.0,0.0,...|\n",
            "| 1659|[0.0,0.0,0.0,0.0,...|\n",
            "| 1789|[0.0,0.0,0.0,0.0,...|\n",
            "| 1922|[0.0,0.0,0.0,0.0,...|\n",
            "| 2226|[0.0,0.0,0.0,0.0,...|\n",
            "| 2237|[1.0,0.0,0.0,0.0,...|\n",
            "| 2351|[0.0,0.0,0.0,0.0,...|\n",
            "| 2542|[0.0,0.0,0.0,0.0,...|\n",
            "| 2610|[0.0,0.0,0.0,0.0,...|\n",
            "| 2709|[0.0,0.0,0.0,0.0,...|\n",
            "| 2727|[0.0,0.0,0.0,0.0,...|\n",
            "| 2943|[0.0,0.0,0.0,0.0,...|\n",
            "| 2974|[0.0,0.0,0.0,0.0,...|\n",
            "| 3681|[0.0,0.0,0.0,0.0,...|\n",
            "| 3797|[0.0,0.0,0.0,0.0,...|\n",
            "| 3942|[1.0,0.0,0.0,0.0,...|\n",
            "| 3956|[1.0,0.0,0.0,0.0,...|\n",
            "| 4260|[0.0,0.0,0.0,0.0,...|\n",
            "+-----+--------------------+\n",
            "only showing top 20 rows\n",
            "\n"
          ]
        }
      ]
    },
    {
      "cell_type": "code",
      "source": [
        "from pyspark.ml.clustering import KMeans, KMeansModel\n",
        "\n",
        "kmeans = KMeans(k=5)\n",
        "kmeans.setMaxIter(10)\n",
        "kmeans.setWeightCol(\"features\")"
      ],
      "metadata": {
        "id": "vcvEfSf43Hav",
        "colab": {
          "base_uri": "https://localhost:8080/",
          "height": 0
        },
        "outputId": "d6ef7334-3fc0-4209-970b-be641e765b98"
      },
      "execution_count": 256,
      "outputs": [
        {
          "output_type": "execute_result",
          "data": {
            "text/plain": [
              "KMeans_efbc86103cec"
            ]
          },
          "metadata": {},
          "execution_count": 256
        }
      ]
    },
    {
      "cell_type": "code",
      "source": [
        "# model = kmeans.fit(dfMembers)"
      ],
      "metadata": {
        "id": "-3qD6Njs3VYk"
      },
      "execution_count": 257,
      "outputs": []
    },
    {
      "cell_type": "code",
      "source": [
        "# transformed = model.transform(dfMembers).select(\"Member_number\", \"Items\")\n",
        "# rows = transformed.collect()\n",
        "# print(rows)"
      ],
      "metadata": {
        "id": "3RdknA463u18"
      },
      "execution_count": 258,
      "outputs": []
    }
  ],
  "metadata": {
    "colab": {
      "collapsed_sections": [
        "xVHA3j3zw788"
      ],
      "provenance": [],
      "include_colab_link": true
    },
    "kernelspec": {
      "display_name": "Python 3",
      "name": "python3"
    },
    "language_info": {
      "name": "python"
    }
  },
  "nbformat": 4,
  "nbformat_minor": 0
}